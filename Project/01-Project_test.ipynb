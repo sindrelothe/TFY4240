{
 "cells": [
  {
   "cell_type": "code",
   "execution_count": 1,
   "metadata": {},
   "outputs": [],
   "source": [
    "import numpy as np\n",
    "import matplotlib.pyplot as plt\n",
    "import scipy\n",
    "\n",
    "newparams = {'figure.figsize': (12, 6), 'axes.grid': False,\n",
    "             'lines.linewidth': 2,\n",
    "             'font.size': 15, 'mathtext.fontset': 'stix',\n",
    "             'font.family': 'STIXGeneral'}\n",
    "\n",
    "plt.rcParams.update(newparams)"
   ]
  }
 ],
 "metadata": {
  "interpreter": {
   "hash": "29d30c86a4c1402ab494aa88f2cd15bd68f9d67c328d72dda9cd00cff31f4203"
  },
  "kernelspec": {
   "display_name": "Python 3.8.10 ('tdt4240-maomB8Qp-py3.8')",
   "language": "python",
   "name": "python3"
  },
  "language_info": {
   "codemirror_mode": {
    "name": "ipython",
    "version": 3
   },
   "file_extension": ".py",
   "mimetype": "text/x-python",
   "name": "python",
   "nbconvert_exporter": "python",
   "pygments_lexer": "ipython3",
   "version": "3.8.10"
  },
  "orig_nbformat": 4
 },
 "nbformat": 4,
 "nbformat_minor": 2
}
